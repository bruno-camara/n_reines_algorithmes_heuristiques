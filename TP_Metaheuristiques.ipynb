{
  "nbformat": 4,
  "nbformat_minor": 0,
  "metadata": {
    "colab": {
      "provenance": [],
      "authorship_tag": "ABX9TyPqRfE9pa4q92nya7CzUa8E",
      "include_colab_link": true
    },
    "kernelspec": {
      "name": "python3",
      "display_name": "Python 3"
    },
    "language_info": {
      "name": "python"
    }
  },
  "cells": [
    {
      "cell_type": "markdown",
      "metadata": {
        "id": "view-in-github",
        "colab_type": "text"
      },
      "source": [
        "<a href=\"https://colab.research.google.com/github/bruno-camara/n_reines_algorithmes_heuristiques/blob/main/TP_Metaheuristiques.ipynb\" target=\"_parent\"><img src=\"https://colab.research.google.com/assets/colab-badge.svg\" alt=\"Open In Colab\"/></a>"
      ]
    },
    {
      "cell_type": "markdown",
      "source": [
        "# Algorithmes métaheuristiques appliqués au problème des n reines\n",
        "\n",
        "Le but du TP est d'implémenter des heuristiques et des choix de voisinage pour la résolution du problème de n-reines sur un échiquier n*n, n > 3.\n",
        "\n",
        "Réfléchissez d'abord à la représentation d'une solution (un état) et proposer deux manières differentes de définir la notion d'état voisin\n",
        "\n",
        "Implémentez d'abord la méthode de l'amélioration continue (hill climbing) dans sa version greedy ou dans sa version améliorer un peu en mettant bien en évidence le possible cas d'arrêt dans une configuration qui n'est pas la solution recherchée. Comparez les deux choix et tirer une conclusion.\n",
        "\n",
        "Implémentez ensuite le recuit simulé ou une autre meta heuristique. "
      ],
      "metadata": {
        "id": "uity0xGfEHrB"
      }
    },
    {
      "cell_type": "markdown",
      "source": [
        "## **Problème des n reines:**\n",
        "\n",
        "Mettre n reines sur un échiquier n × n tel \n",
        "que et les reines ne s'attaquent pas entre elles."
      ],
      "metadata": {
        "id": "LjtB_RP7E5yz"
      }
    },
    {
      "cell_type": "markdown",
      "source": [
        "## État Voisin\n",
        "\n",
        "L'état voisin est un état obtenu en appliquant une opération de mouvement à l'état courant. Il existe différentes manières de définir la notion d'état voisin. Voici les états voisin que j'ai choisi:\n",
        "\n",
        "1. **Changer la position d'une reine choisie au hasard** : Dans cette approche, l'état voisin est obtenu en changeant la position d'une seule reine sur l'échiquier. Pour chaque reine dans l'état courant, on examine chaque case de la même rangée qui n'est pas déjà occupée par une autre reine. Si on trouve une case qui n'est pas menacée par une autre reine, on peut déplacer la reine vers cette case pour obtenir un nouvel état voisin.\n",
        "\n",
        "2. **Changer la position d'une reine en conflit** : La différence entre cette approche et l'approche antérieure est la manière de choisir la reine. Ici, nous allons choisir la reine qui est dans la même ligne qu'une autre reine.\n",
        "\n",
        "Ces deux approches permettent de définir des opérations de mouvement pour le problème des n-reines, mais il existe de nombreuses autres manières de définir la notion d'état voisin. "
      ],
      "metadata": {
        "id": "W58eqnhXEunx"
      }
    },
    {
      "cell_type": "markdown",
      "source": [
        "## Modélisation du problème\n",
        "\n",
        "- Un échiquier vide sera une matrice remplit de 0\n",
        "- Une reine sera un 1 dans l'échiquier\n",
        "- Conflit c'est quand il y a des reines qui s'attaquent entre elles"
      ],
      "metadata": {
        "id": "osfOEwbzJ7gb"
      }
    },
    {
      "cell_type": "code",
      "source": [
        "import numpy as np\n",
        "from numpy import random\n",
        "import math"
      ],
      "metadata": {
        "id": "BJ9Ud8SAK25v"
      },
      "execution_count": 1,
      "outputs": []
    },
    {
      "cell_type": "code",
      "source": [
        "def gen_echiquier(n):\n",
        "  echiquier = np.zeros((n, n))\n",
        "  return echiquier"
      ],
      "metadata": {
        "id": "4-hde99mKuIL"
      },
      "execution_count": 2,
      "outputs": []
    },
    {
      "cell_type": "code",
      "source": [
        "def place_reines_randomly(echiquier):\n",
        "  n = echiquier.shape[0]\n",
        "  echiquier = echiquier.flatten()\n",
        "  echiquier[:n] = 1\n",
        "  np.random.shuffle(echiquier)\n",
        "  echiquier = echiquier.reshape((n, n))\n",
        "  return echiquier"
      ],
      "metadata": {
        "id": "ZKaIx989LOzc"
      },
      "execution_count": 3,
      "outputs": []
    },
    {
      "cell_type": "code",
      "source": [
        "def all_traces(x):\n",
        "    jj = np.tile(np.arange(x.shape[1]),x.shape[0])\n",
        "    ii = (np.arange(x.shape[1])+np.arange(x.shape[0])[::-1,None]).ravel()\n",
        "    z = np.zeros(((x.shape[0]+x.shape[1]-1),x.shape[1]),int)\n",
        "    z[ii,jj] = x.ravel()\n",
        "    return z.sum(axis=1)\n",
        "\n",
        "def conflit(echiquier):\n",
        "  # Check the number of conflicts\n",
        "  # There will only have a conflict if sum of lines, columns and diagonals are different from 1\n",
        "  # A conflict does not represent the exact number of conflits, but a representation of the value\n",
        "  n = echiquier.shape[0]\n",
        "  ones = np.ones(n)\n",
        "  conflit_colonne = echiquier.sum(axis=0)[echiquier.sum(axis=0) > ones].sum()\n",
        "  conflit_ligne = echiquier.sum(axis=1)[echiquier.sum(axis=1) > ones].sum()\n",
        "  conflit_diagonales = all_traces(echiquier)[all_traces(echiquier) > ones.max(keepdims=True)].sum()\n",
        "  conflit_antidiagonales = all_traces(np.fliplr(echiquier))[all_traces(np.fliplr(echiquier)) > ones.max(keepdims=True)].sum()\n",
        "  #print(\"# Conflit Colonnes:\", conflit_colonne)\n",
        "  #print(\"# Conflit Lignes:\", conflit_ligne)\n",
        "  #print(\"# Conflit Diagonales:\", conflit_diagonales + conflit_antidiagonales)\n",
        "  conflits = conflit_colonne + conflit_ligne + conflit_diagonales + conflit_antidiagonales\n",
        "  return conflits"
      ],
      "metadata": {
        "id": "CmJRYKF1JdDS"
      },
      "execution_count": 4,
      "outputs": []
    },
    {
      "cell_type": "markdown",
      "source": [
        "## Recherche par Amélioration (Hill Climbing)\n",
        "\n",
        "A partir d'un état initial toujours prendre le voisin qui est meilleur\n",
        "d'un point de vue coût.\n",
        "\n",
        "Le coût dans notre cas, c'est le nombre de conflit."
      ],
      "metadata": {
        "id": "MWTJ1DOAGEDu"
      }
    },
    {
      "cell_type": "code",
      "source": [
        "def check_voisin(echiquier, reine):\n",
        "  # Params1: echiquier - matrix nxn\n",
        "  # Params2: reine - tuple (line, column) with reine position\n",
        "  # While there is a better voisin, we change the etat_actuel\n",
        "\n",
        "  cout = conflit(echiquier)\n",
        "  echiquier_better = echiquier.copy()\n",
        "\n",
        "  # Check space below:\n",
        "  if (reine[0] == echiquier.shape[0] - 1):\n",
        "    pass\n",
        "  else:\n",
        "    echiquier_aux = echiquier.copy()\n",
        "    if (echiquier[reine[0] + 1, reine[1]] != 1):\n",
        "      echiquier_aux[reine] = 0\n",
        "      echiquier_aux[reine[0] + 1, reine[1]] = 1\n",
        "      if(conflit(echiquier_aux) < cout):\n",
        "        cout = conflit(echiquier_aux)\n",
        "        echiquier_better = echiquier_aux.copy()\n",
        "\n",
        "  # Check space above\n",
        "  if (reine[0] == 0):\n",
        "    pass\n",
        "  else:\n",
        "    echiquier_aux = echiquier.copy()\n",
        "    if (echiquier[reine[0] - 1, reine[1]] != 1):\n",
        "      echiquier_aux[reine] = 0\n",
        "      echiquier_aux[reine[0] - 1, reine[1]] = 1\n",
        "      if(conflit(echiquier_aux) < cout):\n",
        "        cout = conflit(echiquier_aux)\n",
        "        echiquier_better = echiquier_aux.copy()\n",
        "\n",
        "  # Check right space\n",
        "  if (reine[1] == echiquier.shape[1] - 1):\n",
        "    pass\n",
        "  else:\n",
        "    echiquier_aux = echiquier.copy()\n",
        "    if (echiquier[reine[0], reine[1] + 1] != 1):\n",
        "      echiquier_aux[reine] = 0\n",
        "      echiquier_aux[reine[0], reine[1] + 1] = 1\n",
        "      if(conflit(echiquier_aux) < cout):\n",
        "        cout = conflit(echiquier_aux)\n",
        "        echiquier_better = echiquier_aux.copy()\n",
        "\n",
        "  # Check left space\n",
        "  if (reine[1] == 0):\n",
        "    pass\n",
        "  else:\n",
        "    echiquier_aux = echiquier.copy()\n",
        "    if (echiquier[reine[0], reine[1] - 1] != 1):\n",
        "      echiquier_aux[reine] = 0\n",
        "      echiquier_aux[reine[0], reine[1] - 1] = 1\n",
        "      if (conflit(echiquier_aux) < cout):\n",
        "        cout = conflit(echiquier_aux)\n",
        "        echiquier_better = echiquier_aux.copy()\n",
        "    \n",
        "  # Check upper left diagonal:\n",
        "  if (reine[0] == 0 or reine[1] == 0):\n",
        "    pass\n",
        "  else:\n",
        "    echiquier_aux = echiquier.copy()\n",
        "    if (echiquier[reine[0] - 1, reine[1] - 1] != 1):\n",
        "      echiquier_aux[reine] = 0\n",
        "      echiquier_aux[reine[0] - 1, reine[1] - 1] = 1\n",
        "      if (conflit(echiquier_aux) < cout):\n",
        "        cout = conflit(echiquier_aux)\n",
        "        echiquier_better = echiquier_aux.copy()\n",
        "\n",
        "  # Check upper right diagonal:\n",
        "  if (reine[0] == 0 or reine[1] == echiquier.shape[1] - 1):\n",
        "    pass\n",
        "  else:\n",
        "    echiquier_aux = echiquier.copy()\n",
        "    if (echiquier[reine[0] - 1, reine[1] + 1] != 1):\n",
        "      echiquier_aux[reine] = 0\n",
        "      echiquier_aux[reine[0] - 1, reine[1] + 1] = 1\n",
        "      if (conflit(echiquier_aux) < cout):\n",
        "        cout = conflit(echiquier_aux)\n",
        "        echiquier_better = echiquier_aux.copy()\n",
        "\n",
        "  # Check lower left diagonal:\n",
        "  if (reine[0] == echiquier.shape[0] - 1 or reine[1] == 0):\n",
        "    pass\n",
        "  else:\n",
        "    echiquier_aux = echiquier.copy()\n",
        "    if (echiquier[reine[0] + 1, reine[1] - 1] != 1):\n",
        "      echiquier_aux[reine] = 0\n",
        "      echiquier_aux[reine[0] + 1, reine[1] - 1] = 1\n",
        "      if (conflit(echiquier_aux) < cout):\n",
        "        cout = conflit(echiquier_aux)\n",
        "        echiquier_better = echiquier_aux.copy()\n",
        "\n",
        "  # Check lower right diagonal:\n",
        "  if (reine[0] == echiquier.shape[0] - 1 or reine[1] == echiquier.shape[1] - 1):\n",
        "    pass\n",
        "  else:\n",
        "    echiquier_aux = echiquier.copy()\n",
        "    if (echiquier[reine[0] + 1, reine[1] + 1] != 1):\n",
        "      echiquier_aux[reine] = 0\n",
        "      echiquier_aux[reine[0] + 1, reine[1] + 1] = 1\n",
        "      if (conflit(echiquier_aux) < cout):\n",
        "        cout = conflit(echiquier_aux)\n",
        "        echiquier_better = echiquier_aux.copy()\n",
        "    \n",
        "  return echiquier_better\n"
      ],
      "metadata": {
        "id": "mYSkQ9nEHtX7"
      },
      "execution_count": 5,
      "outputs": []
    },
    {
      "cell_type": "code",
      "source": [
        "def choisir_reine_hasard(echiquier):\n",
        "  # Param1: echiquier - matrix nxn\n",
        "  # return: reine - tuple (x, y)\n",
        "  # Chose a queen randomly\n",
        "\n",
        "  reines = np.where(echiquier == 1)\n",
        "  rnd_number = random.randint(echiquier.shape[0])\n",
        "  reine = (reines[0][rnd_number], reines[1][rnd_number])\n",
        "  return reine"
      ],
      "metadata": {
        "id": "W2J2NODKxrEU"
      },
      "execution_count": 6,
      "outputs": []
    },
    {
      "cell_type": "code",
      "source": [
        "def choisir_reine(echiquier):\n",
        "  # Param1: echiquier - matrix nxn\n",
        "  # return: reine - tuple (x, y)\n",
        "  # Chose a queen in the same line as another\n",
        "\n",
        "  if (np.unique(np.where(echiquier == 1)[0], return_counts=True)[1].max() > 1):\n",
        "    lines, cols = np.where(echiquier == 1)\n",
        "\n",
        "    rnd_number = random.randint(cols[np.where(lines == lines.max())].shape[0])\n",
        "    reine = (lines[np.where(lines == lines.max())][rnd_number], cols[np.where(lines == lines.max())][rnd_number])\n",
        "\n",
        "    return reine\n",
        "  else:\n",
        "    return choisir_reine_hasard(echiquier)"
      ],
      "metadata": {
        "id": "JbkpIoHo98m7"
      },
      "execution_count": 7,
      "outputs": []
    },
    {
      "cell_type": "code",
      "source": [
        "def hill_climbing(etat_initial):\n",
        "  # Param1: etat_initial - echiquier nxn\n",
        "  # Using the état voisin 1\n",
        "  etat_actuel = etat_initial\n",
        "  cout = conflit(etat_actuel)\n",
        "  i = 0\n",
        "  couts_anterieurs = np.random.randint(1,100,100)\n",
        "  stop_cond = False # Stop Condition\n",
        "  while (~stop_cond and cout != 0):\n",
        "    etat_actuel = check_voisin(etat_actuel, choisir_reine_hasard(etat_actuel))\n",
        "    cout = conflit(etat_actuel)\n",
        "    couts_anterieurs[i%100] = cout\n",
        "    stop_cond = np.all(couts_anterieurs == couts_anterieurs[0])\n",
        "    i = i + 1\n",
        "  if (stop_cond):\n",
        "    print(\"Max Local found\")\n",
        "  else:\n",
        "    print(\"Max Global found\")\n",
        "  return etat_actuel"
      ],
      "metadata": {
        "id": "PKbo2SB9Ex5S"
      },
      "execution_count": 8,
      "outputs": []
    },
    {
      "cell_type": "code",
      "source": [
        "def hill_climbing_2(etat_initial):\n",
        "  # Param1: etat_initial - echiquier nxn\n",
        "  # Using the état voisin 2\n",
        "  \n",
        "  etat_actuel = etat_initial\n",
        "  cout = conflit(etat_actuel)\n",
        "  i = 0\n",
        "  couts_anterieurs = np.random.randint(1,100,100)\n",
        "  stop_cond = False # Stop Condition\n",
        "  while (~stop_cond and cout != 0):\n",
        "    etat_actuel = check_voisin(etat_actuel, choisir_reine(etat_actuel))\n",
        "    cout = conflit(etat_actuel)\n",
        "    couts_anterieurs[i%100] = cout\n",
        "    stop_cond = np.all(couts_anterieurs == couts_anterieurs[0])\n",
        "    i = i + 1\n",
        "  if (stop_cond):\n",
        "    print(\"Max Local found\")\n",
        "  else:\n",
        "    print(\"Max Global found\")\n",
        "  return etat_actuel"
      ],
      "metadata": {
        "id": "t3JeeJrhIAqZ"
      },
      "execution_count": 9,
      "outputs": []
    },
    {
      "cell_type": "code",
      "source": [
        "def hill_climbing_iterations(etat_initial):\n",
        "  # Param1: etat_initial - echiquier nxn\n",
        "  # Hill Climbing stop after a certain number of iterations\n",
        "  \n",
        "  etat_actuel = etat_initial\n",
        "  cout = conflit(etat_actuel)\n",
        "  i = 0\n",
        "  while (i < 10000 and cout != 0):\n",
        "    etat_actuel = check_voisin(etat_actuel, choisir_reine_hasard(etat_actuel))\n",
        "    cout = conflit(etat_actuel)\n",
        "    i = i + 1\n",
        "  if (i == 10000):\n",
        "    print(\"Max Local found\")\n",
        "  else:\n",
        "    print(\"Max Global found\")\n",
        "  return etat_actuel"
      ],
      "metadata": {
        "id": "hZQTVXEglg31"
      },
      "execution_count": 10,
      "outputs": []
    },
    {
      "cell_type": "code",
      "source": [
        "# Exemple\n",
        "echiquier = gen_echiquier(8)\n",
        "echiquier = place_reines_randomly(echiquier)\n",
        "print(\"État Initial\\n\")\n",
        "print(echiquier)\n",
        "print(\"\\n\")\n",
        "print(\"# Conflits Initiales:\", conflit(echiquier))\n",
        "print(\"---------------------------------------------------\")\n",
        "print(\"État Final - État voisin 1\\n\")\n",
        "echiquier_resolu = hill_climbing(echiquier)\n",
        "print(echiquier_resolu)\n",
        "print(\"\\n\")\n",
        "print(\"# Conflits Finales:\", conflit(echiquier_resolu))\n",
        "print(\"---------------------------------------------------\")\n",
        "print(\"État Final - État voisin 2\\n\")\n",
        "echiquier_resolu = hill_climbing_2(echiquier)\n",
        "print(echiquier_resolu)\n",
        "print(\"\\n\")\n",
        "print(\"# Conflits Finales:\", conflit(echiquier_resolu))"
      ],
      "metadata": {
        "colab": {
          "base_uri": "https://localhost:8080/"
        },
        "id": "g1fycQ3ZM8Xk",
        "outputId": "1e420cf9-a3a2-47c1-ccdc-bfe36c81459f"
      },
      "execution_count": 11,
      "outputs": [
        {
          "output_type": "stream",
          "name": "stdout",
          "text": [
            "État Initial\n",
            "\n",
            "[[0. 0. 0. 0. 0. 0. 0. 0.]\n",
            " [0. 0. 0. 0. 0. 0. 1. 0.]\n",
            " [0. 0. 1. 0. 0. 1. 0. 0.]\n",
            " [0. 0. 0. 0. 0. 0. 0. 0.]\n",
            " [0. 1. 0. 0. 0. 1. 0. 1.]\n",
            " [0. 0. 1. 0. 0. 0. 0. 0.]\n",
            " [0. 0. 0. 0. 0. 0. 0. 0.]\n",
            " [1. 0. 0. 0. 0. 0. 0. 0.]]\n",
            "\n",
            "\n",
            "# Conflits Initiales: 17.0\n",
            "---------------------------------------------------\n",
            "État Final - État voisin 1\n",
            "\n",
            "Max Local found\n",
            "[[0. 0. 0. 0. 0. 0. 0. 0.]\n",
            " [0. 0. 0. 0. 0. 0. 1. 0.]\n",
            " [0. 0. 1. 0. 0. 0. 0. 0.]\n",
            " [0. 0. 0. 0. 0. 1. 0. 0.]\n",
            " [0. 0. 0. 0. 0. 0. 0. 1.]\n",
            " [0. 1. 0. 0. 0. 0. 0. 0.]\n",
            " [0. 0. 0. 1. 1. 0. 0. 0.]\n",
            " [1. 0. 0. 0. 0. 0. 0. 0.]]\n",
            "\n",
            "\n",
            "# Conflits Finales: 4.0\n",
            "---------------------------------------------------\n",
            "État Final - État voisin 2\n",
            "\n",
            "Max Local found\n",
            "[[0. 0. 0. 0. 0. 0. 0. 0.]\n",
            " [0. 0. 0. 0. 0. 0. 1. 0.]\n",
            " [0. 0. 1. 0. 0. 1. 0. 0.]\n",
            " [0. 0. 0. 0. 0. 0. 0. 0.]\n",
            " [0. 1. 0. 0. 0. 1. 0. 1.]\n",
            " [0. 0. 1. 0. 0. 0. 0. 0.]\n",
            " [1. 0. 0. 0. 0. 0. 0. 0.]\n",
            " [0. 0. 0. 0. 0. 0. 0. 0.]]\n",
            "\n",
            "\n",
            "# Conflits Finales: 16.0\n"
          ]
        }
      ]
    },
    {
      "cell_type": "markdown",
      "source": [
        "## Recuit Simulé (Simulated Annealing)\n",
        "\n",
        "Appelée aussi gradient descendent : avec une probabilité de type\n",
        "e^(−λt) (décroissante dans le temps) permettre le choix d'un voisin\n",
        "qui n'est pas meilleur afin d'échapper d'un maximum local"
      ],
      "metadata": {
        "id": "l9tB5wURGtKs"
      }
    },
    {
      "cell_type": "code",
      "source": [
        "def voisin_aleatoire(echiquier, reine):\n",
        "  # Params1: echiquier - matrix nxn\n",
        "  # Params2: reine - tuple (line, column) with reine position\n",
        "  # Chose a random neighboor\n",
        "\n",
        "  allowed_movements = []\n",
        "\n",
        "  # Check space below:\n",
        "  if (reine[0] != echiquier.shape[0] - 1 and echiquier[reine[0] + 1, reine[1]] != 1):\n",
        "    allowed_movements.append(\"below\")\n",
        "\n",
        "  # Check space above\n",
        "  if (reine[0] != 0 and echiquier[reine[0] - 1, reine[1]] != 1):\n",
        "    allowed_movements.append(\"above\")\n",
        "\n",
        "  # Check right space\n",
        "  if (reine[1] != echiquier.shape[1] - 1 and echiquier[reine[0], reine[1] + 1] != 1):\n",
        "    allowed_movements.append(\"right\")\n",
        "\n",
        "  # Check left space\n",
        "  if (reine[1] != 0 and echiquier[reine[0], reine[1] - 1] != 1):\n",
        "    allowed_movements.append(\"left\")\n",
        "    \n",
        "  # Check upper left diagonal:\n",
        "  if (reine[0] != 0 and reine[1] != 0 and echiquier[reine[0] - 1, reine[1] - 1] != 1):\n",
        "    allowed_movements.append(\"upper_left\")\n",
        "\n",
        "  # Check upper right diagonal:\n",
        "  if (reine[0] != 0 and reine[1] != echiquier.shape[1] - 1 and echiquier[reine[0] - 1, reine[1] + 1] != 1):\n",
        "    allowed_movements.append(\"upper_right\")\n",
        "  \n",
        "  # Check lower left diagonal:\n",
        "  if (reine[0] != echiquier.shape[0] - 1 and reine[1] != 0 and echiquier[reine[0] + 1, reine[1] - 1] != 1):\n",
        "    allowed_movements.append(\"lower_left\")\n",
        "\n",
        "  # Check lower right diagonal:\n",
        "  if (reine[0] != echiquier.shape[0] - 1 and reine[1] != echiquier.shape[1] - 1 and echiquier[reine[0] + 1, reine[1] + 1] != 1):\n",
        "    allowed_movements.append(\"lower_right\")\n",
        "\n",
        "  # Chose randomly one of the possible movements:\n",
        "  rnd_number = random.randint(len(allowed_movements))\n",
        "  echiquier_aux = echiquier.copy()\n",
        "  choice = allowed_movements[rnd_number]\n",
        "\n",
        "  if (choice == \"below\"):\n",
        "    echiquier_aux[reine] = 0\n",
        "    echiquier_aux[reine[0] + 1, reine[1]] = 1\n",
        "  elif (choice == \"above\"):\n",
        "    echiquier_aux[reine] = 0\n",
        "    echiquier_aux[reine[0] - 1, reine[1]] = 1\n",
        "  elif (choice == \"right\"):\n",
        "    echiquier_aux[reine] = 0\n",
        "    echiquier_aux[reine[0], reine[1] + 1] = 1\n",
        "  elif (choice == \"left\"):\n",
        "    echiquier_aux[reine] = 0\n",
        "    echiquier_aux[reine[0], reine[1] - 1] = 1\n",
        "  elif (choice == \"upper_left\"):\n",
        "    echiquier_aux[reine] = 0\n",
        "    echiquier_aux[reine[0] - 1, reine[1] - 1] = 1\n",
        "  elif (choice == \"upper_right\"):\n",
        "    echiquier_aux[reine] = 0\n",
        "    echiquier_aux[reine[0] - 1, reine[1] + 1] = 1\n",
        "  elif (choice == \"lower_left\"):\n",
        "    echiquier_aux[reine] = 0\n",
        "    echiquier_aux[reine[0] + 1, reine[1] - 1] = 1\n",
        "  elif (choice == \"lower_right\"):\n",
        "    echiquier_aux[reine] = 0\n",
        "    echiquier_aux[reine[0] + 1, reine[1] + 1] = 1\n",
        "    \n",
        "  return echiquier_aux"
      ],
      "metadata": {
        "id": "3LxoVixoOrk-"
      },
      "execution_count": 12,
      "outputs": []
    },
    {
      "cell_type": "code",
      "source": [
        "def recuit_simule(etat_initial):\n",
        "  # Param1: etat_initial - echiquier nxn\n",
        "  # Using état voisin 1\n",
        "\n",
        "  etat_actuel = etat_initial\n",
        "  t = 1\n",
        "  while (t < 10000 and conflit(etat_actuel) != 0):\n",
        "    suivant = voisin_aleatoire(etat_actuel, choisir_reine_hasard(etat_actuel))\n",
        "    delta = conflit(suivant) - conflit(etat_actuel);\n",
        "    if (delta <= 0):\n",
        "      etat_actuel = suivant;\n",
        "    else:\n",
        "      chance = math.exp(-delta*t)\n",
        "      if(math.floor(random.uniform(0, 1/(1-chance))) == 1):\n",
        "          etat_actuel = suivant\n",
        "    t = t + 1\n",
        "  if (t == 10000):\n",
        "    print(\"Max Local found\")\n",
        "  else:\n",
        "    print(\"Max Global found\")\n",
        "  return etat_actuel"
      ],
      "metadata": {
        "id": "3dErKMWyHIsG"
      },
      "execution_count": 13,
      "outputs": []
    },
    {
      "cell_type": "code",
      "source": [
        "def recuit_simule_2(etat_initial):\n",
        "  # Param1: etat_initial - echiquier nxn\n",
        "  # Using état voisin 2\n",
        "\n",
        "  etat_actuel = etat_initial\n",
        "  t = 1\n",
        "  while (t < 10000 and conflit(etat_actuel) != 0):\n",
        "    suivant = voisin_aleatoire(etat_actuel, choisir_reine(etat_actuel))\n",
        "    delta = conflit(suivant) - conflit(etat_actuel);\n",
        "    if (delta <= 0):\n",
        "      etat_actuel = suivant;\n",
        "    else:\n",
        "      chance = math.exp(-delta*t)\n",
        "      if(math.floor(random.uniform(0, 1/(1-chance))) == 1):\n",
        "          etat_actuel = suivant\n",
        "    t = t + 1\n",
        "  if (t == 10000):\n",
        "    print(\"Max Local found\")\n",
        "  else:\n",
        "    print(\"Max Global found\")\n",
        "  return etat_actuel"
      ],
      "metadata": {
        "id": "KwEXaG0IIugn"
      },
      "execution_count": 14,
      "outputs": []
    },
    {
      "cell_type": "code",
      "source": [
        "# Exemple Recuit Simulé\n",
        "echiquier = gen_echiquier(8)\n",
        "echiquier = place_reines_randomly(echiquier)\n",
        "print(\"État initial\\n\")\n",
        "print(echiquier)\n",
        "print(\"\\n\")\n",
        "print(\"# Conflits Initiales:\", conflit(echiquier))\n",
        "print(\"---------------------------------------------------\")\n",
        "print(\"État final\\n\")\n",
        "echiquier_resolu = recuit_simule(echiquier)\n",
        "print(echiquier_resolu)\n",
        "print(\"\\n\")\n",
        "print(\"# Conflits Finales:\", conflit(echiquier_resolu))\n",
        "print(\"---------------------------------------------------\")\n",
        "print(\"État final 2\\n\")\n",
        "echiquier_resolu = recuit_simule_2(echiquier)\n",
        "print(echiquier_resolu)\n",
        "print(\"\\n\")\n",
        "print(\"# Conflits Finales:\", conflit(echiquier_resolu))"
      ],
      "metadata": {
        "colab": {
          "base_uri": "https://localhost:8080/"
        },
        "id": "L5AR4a9YjyH-",
        "outputId": "395b6e9b-7f8f-4bcc-cff7-cf46848ad526"
      },
      "execution_count": 15,
      "outputs": [
        {
          "output_type": "stream",
          "name": "stdout",
          "text": [
            "État initial\n",
            "\n",
            "[[0. 1. 0. 0. 0. 0. 0. 0.]\n",
            " [0. 0. 1. 0. 0. 0. 0. 0.]\n",
            " [0. 0. 1. 0. 0. 0. 0. 0.]\n",
            " [0. 0. 0. 0. 1. 0. 0. 0.]\n",
            " [0. 0. 0. 0. 1. 0. 0. 0.]\n",
            " [0. 0. 0. 0. 1. 1. 0. 0.]\n",
            " [0. 0. 0. 0. 0. 0. 1. 0.]\n",
            " [0. 0. 0. 0. 0. 0. 0. 0.]]\n",
            "\n",
            "\n",
            "# Conflits Initiales: 14.0\n",
            "---------------------------------------------------\n",
            "État final\n",
            "\n",
            "Max Global found\n",
            "[[0. 0. 1. 0. 0. 0. 0. 0.]\n",
            " [0. 0. 0. 0. 0. 0. 1. 0.]\n",
            " [0. 1. 0. 0. 0. 0. 0. 0.]\n",
            " [0. 0. 0. 0. 0. 0. 0. 1.]\n",
            " [0. 0. 0. 0. 1. 0. 0. 0.]\n",
            " [1. 0. 0. 0. 0. 0. 0. 0.]\n",
            " [0. 0. 0. 1. 0. 0. 0. 0.]\n",
            " [0. 0. 0. 0. 0. 1. 0. 0.]]\n",
            "\n",
            "\n",
            "# Conflits Finales: 0.0\n",
            "---------------------------------------------------\n",
            "État final 2\n",
            "\n",
            "Max Local found\n",
            "[[0. 1. 0. 0. 0. 0. 0. 0.]\n",
            " [0. 0. 1. 0. 0. 0. 0. 0.]\n",
            " [0. 0. 1. 0. 0. 0. 0. 0.]\n",
            " [0. 0. 0. 0. 1. 0. 0. 0.]\n",
            " [0. 0. 0. 0. 1. 0. 0. 0.]\n",
            " [0. 0. 0. 0. 0. 1. 0. 1.]\n",
            " [0. 0. 0. 1. 0. 0. 0. 0.]\n",
            " [0. 0. 0. 0. 0. 0. 0. 0.]]\n",
            "\n",
            "\n",
            "# Conflits Finales: 12.0\n"
          ]
        }
      ]
    },
    {
      "cell_type": "markdown",
      "source": [
        "## Mon ressenti\n",
        "\n",
        "J'ai trouvé très intéressant de voir comment fonctionnent les algorithmes heuristiques. \n",
        "\n",
        "Une particularité est que je n'ai pas toujours pu atteindre le résultat optimal, car j'ai souvent atteint le maximum local et non le maximum global.\n",
        "\n",
        "D'après mes observations, j'ai pu constater que le deuxième algorithme menait plus souvent au résultat optimal, en raison de son mécanisme de déplacement de la reine même si le coût ne change pas, évitant ainsi les maxima locaux.\n",
        "\n",
        "J'ai également pu constater que l'état voisin n'influence pas beaucoup le résultat final, puisque les deux approches sont très similaires."
      ],
      "metadata": {
        "id": "-_d6VGss7PGT"
      }
    },
    {
      "cell_type": "markdown",
      "source": [
        "## Utilities"
      ],
      "metadata": {
        "id": "Udjzwgiw3kfQ"
      }
    },
    {
      "cell_type": "markdown",
      "source": [
        "### Create README"
      ],
      "metadata": {
        "id": "zUE0-hKsC7jp"
      }
    },
    {
      "cell_type": "code",
      "source": [
        "%%shell\n",
        "echo -e \"# Comment Déployer\\n\" > README.md\n",
        "echo -e \"Language: $(python --version)\\n\" >> README.md\n",
        "echo -e \"J'ai utilisé google colab pour ce projet, mais avec n'importe quel compilateur JupyterNotebook c'est possible d'exécuter ce notebook.\\n\" >> README.md\n",
        "echo -e \"Les spécifications du projet et mon ressenti sont écrit au notebook\" >> README.md\n",
        "cat README.md"
      ],
      "metadata": {
        "colab": {
          "base_uri": "https://localhost:8080/"
        },
        "id": "9mw5G7crapf-",
        "outputId": "ba34772f-f99f-4e07-d8aa-a4b47978083a"
      },
      "execution_count": 20,
      "outputs": [
        {
          "output_type": "stream",
          "name": "stdout",
          "text": [
            "# Comment Déployer\n",
            "\n",
            "Language: Python 3.9.16\n",
            "\n",
            "J'ai utilisé google colab pour ce projet, mais avec n'importe quel compilateur JupyterNotebook c'est possible d'exécuter ce notebook.\n",
            "\n",
            "Les spécifications du projet et mon ressenti sont écrit au notebook\n"
          ]
        },
        {
          "output_type": "execute_result",
          "data": {
            "text/plain": []
          },
          "metadata": {},
          "execution_count": 20
        }
      ]
    },
    {
      "cell_type": "markdown",
      "source": [
        "### Transform Notebook to HTML\n",
        "\n",
        "To do so:\n",
        "1. download the notebook\n",
        "2. upload it again in the colab\n",
        "3. execute the cell below\n",
        "4. check the html file in the files of the colab"
      ],
      "metadata": {
        "id": "da_5PJtZ255Y"
      }
    },
    {
      "cell_type": "code",
      "source": [
        "%%shell\n",
        "jupyter nbconvert --to html /TP_Metaheuristiques.ipynb"
      ],
      "metadata": {
        "colab": {
          "base_uri": "https://localhost:8080/"
        },
        "id": "pZArhUve2hlB",
        "outputId": "3c4990ec-98af-44ec-feb5-c0ab5c7b8fc3"
      },
      "execution_count": 17,
      "outputs": [
        {
          "output_type": "stream",
          "name": "stdout",
          "text": [
            "[NbConvertApp] Converting notebook /TP_Metaheuristiques.ipynb to html\n",
            "[NbConvertApp] Writing 669007 bytes to /TP_Metaheuristiques.html\n"
          ]
        },
        {
          "output_type": "execute_result",
          "data": {
            "text/plain": []
          },
          "metadata": {},
          "execution_count": 17
        }
      ]
    }
  ]
}